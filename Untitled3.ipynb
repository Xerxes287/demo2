{
 "cells": [
  {
   "cell_type": "markdown",
   "id": "3a98d1e5-1ba0-47e2-aa71-fe4da2171fce",
   "metadata": {},
   "source": [
    "# Langton's Ants"
   ]
  },
  {
   "cell_type": "code",
   "execution_count": 1,
   "id": "f0571747-cc37-4c42-92cc-6f9fffb950b1",
   "metadata": {},
   "outputs": [
    {
     "name": "stdout",
     "output_type": "stream",
     "text": [
      "pygame 2.6.1 (SDL 2.28.4, Python 3.13.0)\n",
      "Hello from the pygame community. https://www.pygame.org/contribute.html\n"
     ]
    }
   ],
   "source": [
    "import pygame\n",
    "import numpy as np"
   ]
  },
  {
   "cell_type": "code",
   "execution_count": 12,
   "id": "33ca663a-cd67-444f-ac2f-23eff9d0fed9",
   "metadata": {},
   "outputs": [],
   "source": [
    "width = 1600\n",
    "length = 900\n",
    "cell_length = 10\n",
    "X = width//2\n",
    "Y = length//2\n",
    "X1 = X + cell_length*10\n",
    "Y1 = Y + cell_length*10"
   ]
  },
  {
   "cell_type": "code",
   "execution_count": 13,
   "id": "9307af5a-6c6c-4f18-9698-59131d387979",
   "metadata": {},
   "outputs": [],
   "source": [
    "def grid():\n",
    "    for x in range(0,width,cell_length):\n",
    "        pygame.draw.line(screen,(0,0,0),(x,0),(x,length))\n",
    "    for y in range(0,length,cell_length):\n",
    "        pygame.draw.line(screen,(0,0,0),(0,y),(width,y))"
   ]
  },
  {
   "cell_type": "code",
   "execution_count": 14,
   "id": "e33bdaee-8239-4c7d-b728-5ded36f2cac0",
   "metadata": {},
   "outputs": [],
   "source": [
    "def white(X,Y,j,ph_p,ph_p1):\n",
    "    global black_cells\n",
    "    # pygame.draw.rect(screen,(0,0,0),(X, Y,cell_length,cell_length))\n",
    "    black_cells.append((X,Y))\n",
    "    if (X,Y) in ph_p:\n",
    "        t = np.random.rand()\n",
    "        if t > (ph_p.index((X,Y)) * 0.2):\n",
    "            j = j\n",
    "        else:\n",
    "            j += 1\n",
    "    elif (X,Y) in ph_p1:\n",
    "        t = np.random.rand()\n",
    "        if t > (ph_p1.index((X,Y)) * 0.2):\n",
    "            j += 1\n",
    "        else:\n",
    "            j = j\n",
    "    else:\n",
    "        j += 1\n",
    "    return j"
   ]
  },
  {
   "cell_type": "code",
   "execution_count": 15,
   "id": "93d2370e-68b8-434f-9d91-b493fb523267",
   "metadata": {},
   "outputs": [],
   "source": [
    "def black(X,Y,j,ph_p,ph_p1):\n",
    "    global black_cells\n",
    "    if (X,Y) in black_cells:\n",
    "        black_cells.remove((X,Y))\n",
    "    if (X,Y) in ph_p:\n",
    "        t = np.random.rand()\n",
    "        if t > (ph_p.index((X,Y)) * 0.2):\n",
    "            j = j\n",
    "        else:\n",
    "            j -= 1\n",
    "    elif (X,Y) in ph_p1:\n",
    "        t = np.random.rand()\n",
    "        if t > (ph_p1.index((X,Y)) * 0.2):\n",
    "            j -= 1\n",
    "        else:\n",
    "            j = j\n",
    "    else:\n",
    "        j -= 1\n",
    "    return j"
   ]
  },
  {
   "cell_type": "code",
   "execution_count": 18,
   "id": "e1163f6b-b13a-4fae-9471-05807784cee0",
   "metadata": {},
   "outputs": [],
   "source": [
    "screen = pygame.display.set_mode((width,length))\n",
    "r = 1\n",
    "q = 0\n",
    "player = pygame.Rect((X,Y,cell_length,cell_length))\n",
    "player1 = pygame.Rect((X1,Y1,cell_length,cell_length))\n",
    "dir_matrix = [(0,cell_length),(cell_length,0),(0,-cell_length),(-cell_length,0)]\n",
    "ph_p = []\n",
    "ph_p1 = []\n",
    "j = 2\n",
    "i = 2\n",
    "key = 0\n",
    "key1 = 0\n",
    "black_cells = []\n",
    "while r:\n",
    "    screen.fill((255,255,255))\n",
    "    for x,y in ph_p:\n",
    "        pygame.draw.rect(screen,(200 - (25 * (4 - ph_p.index((x,y)))),0,0),(x,y,cell_length,cell_length))\n",
    "        pygame.draw.circle(screen, (255,255,255),(x + cell_length//2,y + cell_length//2),cell_length//4)\n",
    "    for x,y in ph_p1:\n",
    "        pygame.draw.rect(screen,(0,0,(200 - (25 * (4 - ph_p1.index((x,y)))))),(x,y,cell_length,cell_length))\n",
    "        pygame.draw.circle(screen, (255,255,255),(x + cell_length//2,y + cell_length//2),cell_length//4)\n",
    "    for x,y in black_cells:\n",
    "        pygame.draw.rect(screen,(0,0,0),(x,y,cell_length,cell_length))\n",
    "    grid()\n",
    "    if (player.x,player.y) in black_cells:\n",
    "        j = black(player.x,player.y,j,ph_p,ph_p1)\n",
    "    else:\n",
    "        j = white(player.x,player.y,j,ph_p,ph_p1)\n",
    "    if (player.x,player.y) in ph_p:\n",
    "        pass\n",
    "    else:\n",
    "        if (player.x,player.y) in ph_p1:\n",
    "            ph_p1.remove((player.x,player.y))\n",
    "        if key:\n",
    "            ph_p.pop(0)\n",
    "        ph_p.append((player.x,player.y))\n",
    "    if (player1.x,player1.y) in black_cells:\n",
    "        i = black(player1.x,player1.y,i,ph_p1,ph_p)\n",
    "    else:\n",
    "        i = white(player1.x,player1.y,i,ph_p1,ph_p)\n",
    "    if (player1.x,player1.y) in ph_p1:\n",
    "        pass\n",
    "    else:\n",
    "        if (player1.x,player1.y) in ph_p:\n",
    "            ph_p.remove((player1.x,player1.y))\n",
    "        if key1:\n",
    "            ph_p1.pop(0)\n",
    "        ph_p1.append((player1.x,player1.y))\n",
    "    key = 1 if len(ph_p) == 5 else 0\n",
    "    key1 = 1 if len(ph_p1) == 5 else 0\n",
    "    player.move_ip(dir_matrix[(j%4)])\n",
    "    player1.move_ip(dir_matrix[(i%4)])\n",
    "    pygame.time.delay(500)\n",
    "    for event in pygame.event.get():\n",
    "        if event.type == pygame.QUIT:\n",
    "            r = 0\n",
    "    pygame.draw.rect(screen, (255,0,0),player)\n",
    "    pygame.draw.rect(screen, (255,0,0),player1)\n",
    "    pygame.display.update()\n",
    "pygame.quit()"
   ]
  },
  {
   "cell_type": "code",
   "execution_count": null,
   "id": "47e3ede0-1e8c-46cb-894e-ed3916a37881",
   "metadata": {},
   "outputs": [],
   "source": []
  },
  {
   "cell_type": "code",
   "execution_count": null,
   "id": "67dadbdd-64cb-451d-a59c-dad0be68eb45",
   "metadata": {},
   "outputs": [],
   "source": []
  }
 ],
 "metadata": {
  "kernelspec": {
   "display_name": "Python 3 (ipykernel)",
   "language": "python",
   "name": "python3"
  },
  "language_info": {
   "codemirror_mode": {
    "name": "ipython",
    "version": 3
   },
   "file_extension": ".py",
   "mimetype": "text/x-python",
   "name": "python",
   "nbconvert_exporter": "python",
   "pygments_lexer": "ipython3",
   "version": "3.13.0"
  }
 },
 "nbformat": 4,
 "nbformat_minor": 5
}
